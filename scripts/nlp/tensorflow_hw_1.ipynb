{
 "cells": [
  {
   "cell_type": "code",
   "execution_count": 3,
   "id": "a42f47e9-ea84-4d64-8397-17d4083c1f88",
   "metadata": {},
   "outputs": [],
   "source": [
    "import tensorflow as tf\n",
    "import random"
   ]
  },
  {
   "cell_type": "code",
   "execution_count": 18,
   "id": "926d41cf-c683-4a1c-a2b5-8872c951db42",
   "metadata": {},
   "outputs": [
    {
     "name": "stdout",
     "output_type": "stream",
     "text": [
      "tf.Tensor(\n",
      "[[[0.63002825 0.52447045 0.31401289]\n",
      "  [0.2528143  0.6388694  0.2456913 ]\n",
      "  [0.8516872  0.59571993 0.79640794]]\n",
      "\n",
      " [[0.6616638  0.02792096 0.5095129 ]\n",
      "  [0.1461575  0.4022125  0.9383222 ]\n",
      "  [0.8066131  0.52155685 0.60326064]]\n",
      "\n",
      " [[0.17941141 0.9644885  0.7728027 ]\n",
      "  [0.91088724 0.7601776  0.21554792]\n",
      "  [0.47364748 0.7819034  0.46082366]]], shape=(3, 3, 3), dtype=float32)\n"
     ]
    }
   ],
   "source": [
    "rank_3_tensor = tf.random.uniform([3, 3, 3])\n",
    "\n",
    "print(rank_3_tensor)"
   ]
  },
  {
   "cell_type": "code",
   "execution_count": 19,
   "id": "7e2e65e8-7958-4260-b9cf-ef2991858d5c",
   "metadata": {},
   "outputs": [
    {
     "name": "stdout",
     "output_type": "stream",
     "text": [
      "tf.Tensor(\n",
      "[[0.03810477 0.76950085 0.16883051]\n",
      " [0.916693   0.07501626 0.31500137]], shape=(2, 3), dtype=float32)\n",
      "tf.Tensor(\n",
      "[[0.84674287 0.41832542 0.4363488  0.6359664 ]\n",
      " [0.87340975 0.7375437  0.66896796 0.93443656]\n",
      " [0.9242976  0.9296428  0.41953015 0.6940738 ]], shape=(3, 4), dtype=float32)\n"
     ]
    }
   ],
   "source": [
    "rank_2_3_tensor = tf.random.uniform([2, 3])\n",
    "\n",
    "rank_3_4_tensor = tf.random.uniform([3, 4])\n",
    "\n",
    "print(rank_2_3_tensor)\n",
    "print(rank_3_4_tensor)"
   ]
  },
  {
   "cell_type": "code",
   "execution_count": 20,
   "id": "87e730fb-5b2b-462d-9934-dd4b769e7277",
   "metadata": {},
   "outputs": [
    {
     "name": "stdout",
     "output_type": "stream",
     "text": [
      "tf.Tensor(\n",
      "[[0.8604041  0.7404328  0.6022279  0.8604639 ]\n",
      " [1.1328782  0.73164254 0.5823339  0.87171805]], shape=(2, 4), dtype=float32)\n",
      "tf.Tensor(\n",
      "[[0.8604041  0.7404328  0.6022279  0.8604639 ]\n",
      " [1.1328782  0.73164254 0.5823339  0.87171805]], shape=(2, 4), dtype=float32)\n"
     ]
    }
   ],
   "source": [
    "matrix_mult = tf.matmul(rank_2_3_tensor, rank_3_4_tensor)\n",
    "oper_mult = rank_2_3_tensor @ rank_3_4_tensor\n",
    "\n",
    "print(matrix_mult)\n",
    "print(oper_mult)"
   ]
  },
  {
   "cell_type": "code",
   "execution_count": 21,
   "id": "ab0dd066-cadd-4b71-844d-008b81fff96f",
   "metadata": {},
   "outputs": [
    {
     "name": "stdout",
     "output_type": "stream",
     "text": [
      "<tf.RaggedTensor [[2, 5, 34], [8, 0]]>\n"
     ]
    }
   ],
   "source": [
    "ragged_tensor = tf.ragged.constant([[2, 5, 34], [8, 0]])\n",
    "print(ragged_tensor)"
   ]
  },
  {
   "cell_type": "code",
   "execution_count": 22,
   "id": "eed3fe02-2374-47a8-8cf4-69fc397c5c3c",
   "metadata": {},
   "outputs": [
    {
     "name": "stdout",
     "output_type": "stream",
     "text": [
      "[PhysicalDevice(name='/physical_device:CPU:0', device_type='CPU')]\n"
     ]
    }
   ],
   "source": [
    "print(tf.config.experimental.list_physical_devices())"
   ]
  },
  {
   "cell_type": "code",
   "execution_count": 23,
   "id": "7bac9516-71a2-4039-9f8f-3c9d5dc9bb1f",
   "metadata": {},
   "outputs": [
    {
     "ename": "AttributeError",
     "evalue": "'RaggedTensor' object has no attribute 'device'",
     "output_type": "error",
     "traceback": [
      "\u001b[1;31m---------------------------------------------------------------------------\u001b[0m",
      "\u001b[1;31mAttributeError\u001b[0m                            Traceback (most recent call last)",
      "Cell \u001b[1;32mIn[23], line 1\u001b[0m\n\u001b[1;32m----> 1\u001b[0m \u001b[38;5;28mprint\u001b[39m(\u001b[43mragged_tensor\u001b[49m\u001b[38;5;241;43m.\u001b[39;49m\u001b[43mdevice\u001b[49m\u001b[38;5;241m.\u001b[39mendswith(\u001b[38;5;124m'\u001b[39m\u001b[38;5;124mCPU:0\u001b[39m\u001b[38;5;124m'\u001b[39m))\n",
      "\u001b[1;31mAttributeError\u001b[0m: 'RaggedTensor' object has no attribute 'device'"
     ]
    }
   ],
   "source": [
    "print(ragged_tensor.device.endswith('CPU:0'))"
   ]
  },
  {
   "cell_type": "code",
   "execution_count": null,
   "id": "4c3b6043-c498-432a-be35-ccfa3a36a547",
   "metadata": {},
   "outputs": [],
   "source": []
  }
 ],
 "metadata": {
  "kernelspec": {
   "display_name": "Python 3 (ipykernel)",
   "language": "python",
   "name": "python3"
  },
  "language_info": {
   "codemirror_mode": {
    "name": "ipython",
    "version": 3
   },
   "file_extension": ".py",
   "mimetype": "text/x-python",
   "name": "python",
   "nbconvert_exporter": "python",
   "pygments_lexer": "ipython3",
   "version": "3.11.5"
  }
 },
 "nbformat": 4,
 "nbformat_minor": 5
}
